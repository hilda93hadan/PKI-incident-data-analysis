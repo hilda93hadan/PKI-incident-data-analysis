{
 "cells": [
  {
   "cell_type": "markdown",
   "metadata": {},
   "source": [
    "# PKI incidents data analysis"
   ]
  },
  {
   "cell_type": "markdown",
   "metadata": {},
   "source": [
    "*work in-progress <br>\n",
    "*code author: Jack Ruocco"
   ]
  },
  {
   "cell_type": "markdown",
   "metadata": {},
   "source": [
    "1. import packages\n",
    "\n",
    "note: This .py file and the Excel file have to be in a same folder"
   ]
  },
  {
   "cell_type": "code",
   "execution_count": 2,
   "metadata": {},
   "outputs": [],
   "source": [
    "#Import packages\n",
    "import pandas as pd\n",
    "import numpy as np\n",
    "import matplotlib.pyplot as plt"
   ]
  },
  {
   "cell_type": "code",
   "execution_count": 3,
   "metadata": {},
   "outputs": [],
   "source": [
    "#read the file\n",
    "# data = pd.read_excel('Hilda_Jack_PKI_incidents_db.xlsx', sheet_name = 'db2csv')\n",
    "data = pd.read_excel('UpdatedDB.xlsx', sheet_name = 'UpdatedDB')\n",
    "#replace NaN values with ''\n",
    "data = data.replace(np.nan,'')"
   ]
  },
  {
   "cell_type": "code",
   "execution_count": 4,
   "metadata": {},
   "outputs": [
    {
     "data": {
      "text/html": [
       "<div>\n",
       "<style scoped>\n",
       "    .dataframe tbody tr th:only-of-type {\n",
       "        vertical-align: middle;\n",
       "    }\n",
       "\n",
       "    .dataframe tbody tr th {\n",
       "        vertical-align: top;\n",
       "    }\n",
       "\n",
       "    .dataframe thead th {\n",
       "        text-align: right;\n",
       "    }\n",
       "</style>\n",
       "<table border=\"1\" class=\"dataframe\">\n",
       "  <thead>\n",
       "    <tr style=\"text-align: right;\">\n",
       "      <th></th>\n",
       "      <th>Year</th>\n",
       "      <th>Root CA</th>\n",
       "      <th>Problematic CA</th>\n",
       "      <th>Relation to Root</th>\n",
       "      <th>Issue</th>\n",
       "      <th>Cause</th>\n",
       "      <th>Consequence</th>\n",
       "      <th>Self report from CA?</th>\n",
       "      <th>References</th>\n",
       "      <th>collected on or before</th>\n",
       "      <th>Bug Status</th>\n",
       "      <th>Notes:</th>\n",
       "    </tr>\n",
       "  </thead>\n",
       "  <tbody>\n",
       "    <tr>\n",
       "      <td>614</td>\n",
       "      <td>2019</td>\n",
       "      <td>TeliaSonera</td>\n",
       "      <td>TeliaSonera</td>\n",
       "      <td></td>\n",
       "      <td>Failed weekly security configuration reviews</td>\n",
       "      <td>Operational error</td>\n",
       "      <td>Improved monitoring of reviewing systems</td>\n",
       "      <td>Yes</td>\n",
       "      <td>-https://bugzilla.mozilla.org/show_bug.cgi?id=...</td>\n",
       "      <td>2020-03-20</td>\n",
       "      <td>Open</td>\n",
       "      <td></td>\n",
       "    </tr>\n",
       "    <tr>\n",
       "      <td>615</td>\n",
       "      <td>2020</td>\n",
       "      <td>GlobalSign</td>\n",
       "      <td>GlobalSign</td>\n",
       "      <td></td>\n",
       "      <td>Non-BR-compliant or problematic OCSP responder...</td>\n",
       "      <td>Infrastructure Problem</td>\n",
       "      <td>Unknown</td>\n",
       "      <td>No</td>\n",
       "      <td>-https://bugzilla.mozilla.org/show_bug.cgi?id=...</td>\n",
       "      <td>2020-03-20</td>\n",
       "      <td>Open</td>\n",
       "      <td></td>\n",
       "    </tr>\n",
       "    <tr>\n",
       "      <td>616</td>\n",
       "      <td>2020</td>\n",
       "      <td>Microsec</td>\n",
       "      <td>Microsec</td>\n",
       "      <td>SubCA</td>\n",
       "      <td>Fields in certificates not compliant to BR</td>\n",
       "      <td>Non-optimal request check</td>\n",
       "      <td>Additional training for employees and increase...</td>\n",
       "      <td>Yes</td>\n",
       "      <td>-https://bugzilla.mozilla.org/show_bug.cgi?id=...</td>\n",
       "      <td>2020-03-20</td>\n",
       "      <td>Open</td>\n",
       "      <td></td>\n",
       "    </tr>\n",
       "    <tr>\n",
       "      <td>617</td>\n",
       "      <td>2020</td>\n",
       "      <td>GlobalSign</td>\n",
       "      <td>GlobalSign</td>\n",
       "      <td>SubCA</td>\n",
       "      <td>Late revocation of certificate with compromise...</td>\n",
       "      <td>Operational error</td>\n",
       "      <td>Improved process for escalating reports of com...</td>\n",
       "      <td>Yes</td>\n",
       "      <td>-https://bugzilla.mozilla.org/show_bug.cgi?id=...</td>\n",
       "      <td>2020-03-20</td>\n",
       "      <td>Closed</td>\n",
       "      <td></td>\n",
       "    </tr>\n",
       "    <tr>\n",
       "      <td>618</td>\n",
       "      <td>2020</td>\n",
       "      <td>Camerfirma</td>\n",
       "      <td>Camerfirma</td>\n",
       "      <td>SubCA</td>\n",
       "      <td>Fields in certificates not compliant to BR</td>\n",
       "      <td>Unknown</td>\n",
       "      <td>Unknown</td>\n",
       "      <td>Yes</td>\n",
       "      <td>-https://bugzilla.mozilla.org/show_bug.cgi?id=...</td>\n",
       "      <td>2020-03-20</td>\n",
       "      <td>Open</td>\n",
       "      <td></td>\n",
       "    </tr>\n",
       "  </tbody>\n",
       "</table>\n",
       "</div>"
      ],
      "text/plain": [
       "     Year      Root CA Problematic CA Relation to Root  \\\n",
       "614  2019  TeliaSonera    TeliaSonera                    \n",
       "615  2020   GlobalSign     GlobalSign                    \n",
       "616  2020     Microsec       Microsec            SubCA   \n",
       "617  2020   GlobalSign     GlobalSign            SubCA   \n",
       "618  2020   Camerfirma     Camerfirma            SubCA   \n",
       "\n",
       "                                                 Issue  \\\n",
       "614       Failed weekly security configuration reviews   \n",
       "615  Non-BR-compliant or problematic OCSP responder...   \n",
       "616         Fields in certificates not compliant to BR   \n",
       "617  Late revocation of certificate with compromise...   \n",
       "618         Fields in certificates not compliant to BR   \n",
       "\n",
       "                         Cause  \\\n",
       "614          Operational error   \n",
       "615     Infrastructure Problem   \n",
       "616  Non-optimal request check   \n",
       "617          Operational error   \n",
       "618                    Unknown   \n",
       "\n",
       "                                           Consequence Self report from CA?  \\\n",
       "614           Improved monitoring of reviewing systems                  Yes   \n",
       "615                                            Unknown                   No   \n",
       "616  Additional training for employees and increase...                  Yes   \n",
       "617  Improved process for escalating reports of com...                  Yes   \n",
       "618                                            Unknown                  Yes   \n",
       "\n",
       "                                            References collected on or before  \\\n",
       "614  -https://bugzilla.mozilla.org/show_bug.cgi?id=...             2020-03-20   \n",
       "615  -https://bugzilla.mozilla.org/show_bug.cgi?id=...             2020-03-20   \n",
       "616  -https://bugzilla.mozilla.org/show_bug.cgi?id=...             2020-03-20   \n",
       "617  -https://bugzilla.mozilla.org/show_bug.cgi?id=...             2020-03-20   \n",
       "618  -https://bugzilla.mozilla.org/show_bug.cgi?id=...             2020-03-20   \n",
       "\n",
       "    Bug Status Notes:  \n",
       "614       Open         \n",
       "615       Open         \n",
       "616       Open         \n",
       "617     Closed         \n",
       "618       Open         "
      ]
     },
     "execution_count": 4,
     "metadata": {},
     "output_type": "execute_result"
    }
   ],
   "source": [
    "#only show the first 10 rows\n",
    "data.tail(5)"
   ]
  },
  {
   "cell_type": "code",
   "execution_count": 22,
   "metadata": {},
   "outputs": [
    {
     "data": {
      "image/png": "[encoded data removed]",
      "text/plain": [
       "<Figure size 432x288 with 1 Axes>"
      ]
     },
     "metadata": {
      "needs_background": "light"
     },
     "output_type": "display_data"
    }
   ],
   "source": [
    "countGraph = data.groupby('Year')['References'].nunique().plot(kind='bar', color = 'green', title=\"Number of Bugs vs Year\")\n",
    "countGraph.set_ylabel(\"Numer of Bugs\")\n",
    "plt.show()"
   ]
  },
  {
   "cell_type": "markdown",
   "metadata": {},
   "source": [
    "Bugs by year by CA (each color represents a Problematic CA)"
   ]
  },
  {
   "cell_type": "code",
   "execution_count": 6,
   "metadata": {},
   "outputs": [
    {
     "data": {
      "image/png": "[encoded data removed]",
      "text/plain": [
       "<Figure size 432x288 with 1 Axes>"
      ]
     },
     "metadata": {
      "needs_background": "light"
     },
     "output_type": "display_data"
    }
   ],
   "source": [
    "data.assign(dummy = 1).groupby(['Year','Root CA']).size().to_frame().unstack().plot(kind='bar',stacked=True,legend=False)\n",
    "plt.show()"
   ]
  },
  {
   "cell_type": "code",
   "execution_count": 7,
   "metadata": {},
   "outputs": [],
   "source": [
    "#create \n",
    "country_names = ['Afghanistan', 'Aland Islands', 'Albania', 'Algeria', 'American Samoa', 'Andorra', 'Angola', 'Anguilla', 'Antarctica', 'Antigua and Barbuda', 'Argentina', 'Armenia', 'Aruba', 'Australia', 'Austria', 'Azerbaijan', 'Bahamas', 'Bahrain', 'Bangladesh', 'Barbados', 'Belarus', 'Belgium', 'Belize', 'Benin', 'Bermuda', 'Bhutan', 'Bolivia, Plurinational State of', 'Bonaire, Sint Eustatius and Saba', 'Bosnia and Herzegovina', 'Botswana', 'Bouvet Island', 'Brazil', 'British Indian Ocean Territory', 'Brunei Darussalam', 'Bulgaria', 'Burkina Faso', 'Burundi', 'Cambodia', 'Cameroon', 'Canada', 'Cape Verde', 'Cayman Islands', 'Central African Republic', 'Chad', 'Chile', 'China', 'Christmas Island', 'Cocos (Keeling) Islands', 'Colombia', 'Comoros', 'Congo', 'Congo, the Democratic Republic of the', 'Cook Islands', 'Costa Rica', \"Cote d'Ivoire\", 'Croatia', 'Cuba', 'Curacao', 'Cyprus', 'Czech Republic', 'Denmark', 'Djibouti', 'Dominica', 'Dominican Republic', 'Ecuador', 'Egypt', 'El Salvador', 'Equatorial Guinea', 'Eritrea', 'Estonia', 'Ethiopia', 'Falkland Islands (Malvinas)', 'Faroe Islands', 'Fiji', 'Finland', 'France', 'French Guiana', 'French Polynesia', 'French Southern Territories', 'Gabon', 'Gambia', 'Georgia', 'Germany', 'Ghana', 'Gibraltar', 'Greece', 'Greenland', 'Grenada', 'Guadeloupe', 'Guam', 'Guatemala', 'Guernsey', 'Guinea', 'Guinea-Bissau', 'Guyana', 'Haiti', 'Heard Island and McDonald Islands', 'Holy See (Vatican City State)', 'Honduras', 'Hong Kong', 'Hungary', 'Iceland', 'India', 'Indonesia', 'Iran, Islamic Republic of', 'Iraq', 'Ireland', 'Isle of Man', 'Israel', 'Italy', 'Jamaica', 'Japan', 'Jersey', 'Jordan', 'Kazakhstan', 'Kenya', 'Kiribati', \"Korea, Democratic People's Republic of\", 'Korea, Republic of', 'Kuwait', 'Kyrgyzstan', \"Lao People's Democratic Republic\", 'Latvia', 'Lebanon', 'Lesotho', 'Liberia', 'Libya', 'Liechtenstein', 'Lithuania', 'Luxembourg', 'Macao', 'Macedonia, the former Yugoslav Republic of', 'Madagascar', 'Malawi', 'Malaysia', 'Maldives', 'Mali', 'Malta', 'Marshall Islands', 'Martinique', 'Mauritania', 'Mauritius', 'Mayotte', 'Mexico', 'Micronesia, Federated States of', 'Moldova, Republic of', 'Monaco', 'Mongolia', 'Montenegro', 'Montserrat', 'Morocco', 'Mozambique', 'Myanmar', 'Namibia', 'Nauru', 'Nepal', 'Netherlands', 'New Caledonia', 'New Zealand', 'Nicaragua', 'Niger', 'Nigeria', 'Niue', 'Norfolk Island', 'Northern Mariana Islands', 'Norway', 'Oman', 'Pakistan', 'Palau', 'Palestine, State of', 'Panama', 'Papua New Guinea', 'Paraguay', 'Peru', 'Philippines', 'Pitcairn', 'Poland', 'Portugal', 'Puerto Rico', 'Qatar', 'Reunion', 'Romania', 'Russian Federation', 'Rwanda', 'Saint Barthelemy', 'Saint Helena, Ascension and Tristan da Cunha', 'Saint Kitts and Nevis', 'Saint Lucia', 'Saint Martin (French part)', 'Saint Pierre and Miquelon', 'Saint Vincent and the Grenadines', 'Samoa', 'San Marino', 'Sao Tome and Principe', 'Saudi Arabia', 'Senegal', 'Serbia', 'Seychelles', 'Sierra Leone', 'Singapore', 'Sint Maarten (Dutch part)', 'Slovakia', 'Slovenia', 'Solomon Islands', 'Somalia', 'South Africa', 'South Georgia and the South Sandwich Islands', 'South Sudan', 'Spain', 'Sri Lanka', 'Sudan', 'Suriname', 'Svalbard and Jan Mayen', 'Swaziland', 'Sweden', 'Switzerland', 'Syrian Arab Republic', 'Taiwan, Province of China', 'Tajikistan', 'Tanzania, United Republic of', 'Thailand', 'Timor-Leste', 'Togo', 'Tokelau', 'Tonga', 'Trinidad and Tobago', 'Tunisia', 'Turkey', 'Turkmenistan', 'Turks and Caicos Islands', 'Tuvalu', 'Uganda', 'Ukraine', 'United Arab Emirates', 'United Kingdom', 'United States', 'United States Minor Outlying Islands', 'Uruguay', 'Uzbekistan', 'Vanuatu', 'Venezuela, Bolivarian Republic of', 'Viet Nam', 'Virgin Islands, British', 'Virgin Islands, U.S.', 'Wallis and Futuna', 'Western Sahara', 'Yemen', 'Zambia', 'Zimbabwe', 'South Korea', 'Iran','Russia','Taiwan','Vietnam','Republic of Korea','Venezuela','Palestine','Phillipines','North Korea','Syria','Tajikstan','Brunei','Tibet']"
   ]
  },
  {
   "cell_type": "code",
   "execution_count": 8,
   "metadata": {},
   "outputs": [],
   "source": [
    "caToCountry = {'ACCV':'Spain','Actalis':'Italy','AffirmTrust':'USA','Amazon':'USA','ANSSI':'France','Asseco':'Poland',\n",
    "'Atos':'Germany','Belgium Root CA':'Belgium','Buypass':'Norway','Camerfirma':'Spain','Certicamara':'Colombia',\n",
    "'Certigna':'France','Certinomis':'France','Certplus':'France','CertSIGN':'Romania','Certum':'Poland',\n",
    "'China Financial Certification Authority':'China','Chunghwa Telecom eCA':'Taiwan','CNNIC':'China','Comodo':'UK',\n",
    "'Consorci AOC':'Spain','CyberTrust':'Ireland','Cybertrust JP':'Japan','D-TRUST':'Germany',\n",
    "'Dell Inc. Enterprise Issuing CA1':'USA','DFN':'Germany','DigiCert':'USA','DigiNotar':'Netherlands','Disig':'Slovak Republic',\n",
    "'DocuSign':'France','E-Guven':'Turkey','E-Tugra':'Turkey','EBG Elektronik Sertifika':'Turkey','Entrust':'Canada',\n",
    "'Firmaprofesional':'Spain','FNMT':'Spain','GDCA':'China','Generalitat Valenciana CA':'Spain','GeoTrust':'USA',\n",
    "'GlobalSign':'USA','GoDaddy':'USA','Google Trust Services':'USA','Government of Spain':'Spain','GRCA (TW)':'Taiwan',\n",
    "'HARICA':'Greece','Hong Kong Post':'Hong Kong','IdenTrust':'USA','India CCA':'India','Izenpe':'Spain','Kamu':'Turkey',\n",
    "'Kazakhstan CA':'Kazakhstan','KIR':'Poland','Korean Local Information Research & Development Institute':'Korea',\n",
    "'KPN':'Netherlands','Let\\'s Encrypt':'USA','LuxTrust':'Luxembourg','Microsec':'Hungary','Microsoft':'USA','NetLock':'Hungary',\n",
    "'PKloverheid':'Netherlands','QuoVadis':'Bermuda','RSA':'USA','SECOM':'Japan','Sectigo':'UK','SecureTrust':'USA',\n",
    "'Sertifitseerimiskeskuse':'Estonia','SNCE Venezuela':'Venezula','Sonera':'Finland','SSL.com':'USA',\n",
    "'Staat der Nederlanden Root CA':'Netherlands','StartCom':'China','Swisscom':'Switzerland','SwissSign':'Switzerland',\n",
    "'Symantec':'USA','T-Systems':'Germany','TeliaSonera':'Finland','Thawte':'South Africa','TrustCor':'Panama','Trustis':'UK',\n",
    "'Trustwave':'USA','TWCA':'Taiwan','TÜBITAK UEKAE':'Turkey','TÜRKTRUST':'Turkey','VeriSign':'USA','VISA':'USA',\n",
    "'WISeKey':'Switzerland','WoSign ':' China'}"
   ]
  },
  {
   "cell_type": "code",
   "execution_count": 9,
   "metadata": {},
   "outputs": [
    {
     "data": {
      "text/html": [
       "<div>\n",
       "<style scoped>\n",
       "    .dataframe tbody tr th:only-of-type {\n",
       "        vertical-align: middle;\n",
       "    }\n",
       "\n",
       "    .dataframe tbody tr th {\n",
       "        vertical-align: top;\n",
       "    }\n",
       "\n",
       "    .dataframe thead th {\n",
       "        text-align: right;\n",
       "    }\n",
       "</style>\n",
       "<table border=\"1\" class=\"dataframe\">\n",
       "  <thead>\n",
       "    <tr style=\"text-align: right;\">\n",
       "      <th></th>\n",
       "      <th>Root CA</th>\n",
       "      <th>Country</th>\n",
       "    </tr>\n",
       "  </thead>\n",
       "  <tbody>\n",
       "    <tr>\n",
       "      <td>77</td>\n",
       "      <td>TrustCor</td>\n",
       "      <td>Panama</td>\n",
       "    </tr>\n",
       "    <tr>\n",
       "      <td>78</td>\n",
       "      <td>Trustis</td>\n",
       "      <td>UK</td>\n",
       "    </tr>\n",
       "    <tr>\n",
       "      <td>79</td>\n",
       "      <td>Trustwave</td>\n",
       "      <td>USA</td>\n",
       "    </tr>\n",
       "    <tr>\n",
       "      <td>80</td>\n",
       "      <td>TWCA</td>\n",
       "      <td>Taiwan</td>\n",
       "    </tr>\n",
       "    <tr>\n",
       "      <td>81</td>\n",
       "      <td>TÜBITAK UEKAE</td>\n",
       "      <td>Turkey</td>\n",
       "    </tr>\n",
       "    <tr>\n",
       "      <td>82</td>\n",
       "      <td>TÜRKTRUST</td>\n",
       "      <td>Turkey</td>\n",
       "    </tr>\n",
       "    <tr>\n",
       "      <td>83</td>\n",
       "      <td>VeriSign</td>\n",
       "      <td>USA</td>\n",
       "    </tr>\n",
       "    <tr>\n",
       "      <td>84</td>\n",
       "      <td>VISA</td>\n",
       "      <td>USA</td>\n",
       "    </tr>\n",
       "    <tr>\n",
       "      <td>85</td>\n",
       "      <td>WISeKey</td>\n",
       "      <td>Switzerland</td>\n",
       "    </tr>\n",
       "    <tr>\n",
       "      <td>86</td>\n",
       "      <td>WoSign</td>\n",
       "      <td>China</td>\n",
       "    </tr>\n",
       "  </tbody>\n",
       "</table>\n",
       "</div>"
      ],
      "text/plain": [
       "          Root CA      Country\n",
       "77       TrustCor       Panama\n",
       "78        Trustis           UK\n",
       "79      Trustwave          USA\n",
       "80           TWCA       Taiwan\n",
       "81  TÜBITAK UEKAE       Turkey\n",
       "82      TÜRKTRUST       Turkey\n",
       "83       VeriSign          USA\n",
       "84           VISA          USA\n",
       "85        WISeKey  Switzerland\n",
       "86        WoSign         China"
      ]
     },
     "execution_count": 9,
     "metadata": {},
     "output_type": "execute_result"
    }
   ],
   "source": [
    "countryCATable = pd.DataFrame(caToCountry.items(), columns=['Root CA', 'Country'])\n",
    "countryCATable.tail(10)"
   ]
  },
  {
   "cell_type": "code",
   "execution_count": 23,
   "metadata": {},
   "outputs": [
    {
     "data": {
      "text/html": [
       "<div>\n",
       "<style scoped>\n",
       "    .dataframe tbody tr th:only-of-type {\n",
       "        vertical-align: middle;\n",
       "    }\n",
       "\n",
       "    .dataframe tbody tr th {\n",
       "        vertical-align: top;\n",
       "    }\n",
       "\n",
       "    .dataframe thead th {\n",
       "        text-align: right;\n",
       "    }\n",
       "</style>\n",
       "<table border=\"1\" class=\"dataframe\">\n",
       "  <thead>\n",
       "    <tr style=\"text-align: right;\">\n",
       "      <th></th>\n",
       "      <th>Root CA</th>\n",
       "    </tr>\n",
       "    <tr>\n",
       "      <th>Country</th>\n",
       "      <th></th>\n",
       "    </tr>\n",
       "  </thead>\n",
       "  <tbody>\n",
       "    <tr>\n",
       "      <td>Taiwan</td>\n",
       "      <td>3</td>\n",
       "    </tr>\n",
       "    <tr>\n",
       "      <td>Turkey</td>\n",
       "      <td>6</td>\n",
       "    </tr>\n",
       "    <tr>\n",
       "      <td>UK</td>\n",
       "      <td>3</td>\n",
       "    </tr>\n",
       "    <tr>\n",
       "      <td>USA</td>\n",
       "      <td>18</td>\n",
       "    </tr>\n",
       "    <tr>\n",
       "      <td>Venezula</td>\n",
       "      <td>1</td>\n",
       "    </tr>\n",
       "  </tbody>\n",
       "</table>\n",
       "</div>"
      ],
      "text/plain": [
       "          Root CA\n",
       "Country          \n",
       "Taiwan          3\n",
       "Turkey          6\n",
       "UK              3\n",
       "USA            18\n",
       "Venezula        1"
      ]
     },
     "execution_count": 23,
     "metadata": {},
     "output_type": "execute_result"
    }
   ],
   "source": [
    "countryCount = countryCATable.groupby(\"Country\").count()\n",
    "countryCount.tail(5)"
   ]
  },
  {
   "cell_type": "code",
   "execution_count": 20,
   "metadata": {},
   "outputs": [
    {
     "data": {
      "image/png": "[encoded data removed]",
      "text/plain": [
       "<Figure size 432x288 with 1 Axes>"
      ]
     },
     "metadata": {
      "needs_background": "light"
     },
     "output_type": "display_data"
    }
   ],
   "source": [
    "countryPlot = countryCount.plot(kind = 'bar', yticks = [1,3,5,7,9,11,13,15,17,19], title=\"Problematic Root CAs vs Country\")\n",
    "countryPlot.set_ylabel(\"Numer of Problematic Root CAs\")\n",
    "plt.show()"
   ]
  },
  {
   "cell_type": "markdown",
   "metadata": {},
   "source": [
    "code below are incomplete. Please ignore"
   ]
  },
  {
   "cell_type": "code",
   "execution_count": 95,
   "metadata": {},
   "outputs": [
    {
     "data": {
      "text/html": [
       "<div>\n",
       "<style scoped>\n",
       "    .dataframe tbody tr th:only-of-type {\n",
       "        vertical-align: middle;\n",
       "    }\n",
       "\n",
       "    .dataframe tbody tr th {\n",
       "        vertical-align: top;\n",
       "    }\n",
       "\n",
       "    .dataframe thead th {\n",
       "        text-align: right;\n",
       "    }\n",
       "</style>\n",
       "<table border=\"1\" class=\"dataframe\">\n",
       "  <thead>\n",
       "    <tr style=\"text-align: right;\">\n",
       "      <th></th>\n",
       "      <th>Issue</th>\n",
       "    </tr>\n",
       "  </thead>\n",
       "  <tbody>\n",
       "    <tr>\n",
       "      <td>Fields in certificates not compliant to BR</td>\n",
       "      <td>248</td>\n",
       "    </tr>\n",
       "    <tr>\n",
       "      <td>Erroneous/Misleading/Late/Lacking Audit report</td>\n",
       "      <td>53</td>\n",
       "    </tr>\n",
       "    <tr>\n",
       "      <td>Non-BR-compliant or problematic OCSP responder or CRL</td>\n",
       "      <td>50</td>\n",
       "    </tr>\n",
       "    <tr>\n",
       "      <td>Repeated/Lacking appropriate entropy Serial Numbers</td>\n",
       "      <td>48</td>\n",
       "    </tr>\n",
       "    <tr>\n",
       "      <td>Undisclosed SubCA</td>\n",
       "      <td>23</td>\n",
       "    </tr>\n",
       "    <tr>\n",
       "      <td>Possible issuance of rogue certificates</td>\n",
       "      <td>19</td>\n",
       "    </tr>\n",
       "    <tr>\n",
       "      <td>512/1024 bits key</td>\n",
       "      <td>18</td>\n",
       "    </tr>\n",
       "    <tr>\n",
       "      <td>Use of SHA-1/MD5  hashing algorithm</td>\n",
       "      <td>15</td>\n",
       "    </tr>\n",
       "    <tr>\n",
       "      <td>CAA mis-issuance</td>\n",
       "      <td>14</td>\n",
       "    </tr>\n",
       "    <tr>\n",
       "      <td>Rogue certificate</td>\n",
       "      <td>12</td>\n",
       "    </tr>\n",
       "    <tr>\n",
       "      <td>CPS non-compliance</td>\n",
       "      <td>11</td>\n",
       "    </tr>\n",
       "    <tr>\n",
       "      <td>CA/RA/SubCA/Reseller hacked</td>\n",
       "      <td>11</td>\n",
       "    </tr>\n",
       "    <tr>\n",
       "      <td>Failure to revoke certificates in a timely manner</td>\n",
       "      <td>10</td>\n",
       "    </tr>\n",
       "    <tr>\n",
       "      <td>Validity greater than 825 days</td>\n",
       "      <td>6</td>\n",
       "    </tr>\n",
       "    <tr>\n",
       "      <td>Not allowed ECC usage</td>\n",
       "      <td>6</td>\n",
       "    </tr>\n",
       "    <tr>\n",
       "      <td>Delayed certificate revocation</td>\n",
       "      <td>6</td>\n",
       "    </tr>\n",
       "  </tbody>\n",
       "</table>\n",
       "</div>"
      ],
      "text/plain": [
       "                                                    Issue\n",
       "Fields in certificates not compliant to BR            248\n",
       "Erroneous/Misleading/Late/Lacking Audit report         53\n",
       "Non-BR-compliant or problematic OCSP responder ...     50\n",
       "Repeated/Lacking appropriate entropy Serial Num...     48\n",
       "Undisclosed SubCA                                      23\n",
       "Possible issuance of rogue certificates                19\n",
       "512/1024 bits key                                      18\n",
       "Use of SHA-1/MD5  hashing algorithm                    15\n",
       "CAA mis-issuance                                       14\n",
       "Rogue certificate                                      12\n",
       "CPS non-compliance                                     11\n",
       "CA/RA/SubCA/Reseller hacked                            11\n",
       "Failure to revoke certificates in a timely manner      10\n",
       "Validity greater than 825 days                          6\n",
       "Not allowed ECC usage                                   6\n",
       "Delayed certificate revocation                          6"
      ]
     },
     "execution_count": 95,
     "metadata": {},
     "output_type": "execute_result"
    }
   ],
   "source": [
    "causeVersusIssue = data[\"Issue\"].value_counts()\n",
    "refined = pd.DataFrame(causeVersusIssue[0:16])\n",
    "\n",
    "otherCount = 0\n",
    "for i in causeVersusIssue[16:causeVersusIssue.shape[0]]:\n",
    "    otherCount+=i\n",
    "#refined = refined.append({\"Other\":otherCount},ignore_index=True)\n"
   ]
  }
 ],
 "metadata": {
  "kernelspec": {
   "display_name": "Python 3",
   "language": "python",
   "name": "python3"
  },
  "language_info": {
   "codemirror_mode": {
    "name": "ipython",
    "version": 3
   },
   "file_extension": ".py",
   "mimetype": "text/x-python",
   "name": "python",
   "nbconvert_exporter": "python",
   "pygments_lexer": "ipython3",
   "version": "3.7.1"
  }
 },
 "nbformat": 4,
 "nbformat_minor": 2
}
